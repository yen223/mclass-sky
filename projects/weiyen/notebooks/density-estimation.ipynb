{
 "cells": [
  {
   "cell_type": "markdown",
   "metadata": {},
   "source": [
    "# Kernel Density Estimation for outlier detection"
   ]
  },
  {
   "cell_type": "markdown",
   "metadata": {},
   "source": [
    "# Motivation\n",
    "\n",
    "A common assumption in pattern recognition is that all classes are known. This assumption does not hold in many real-world applications, where classes which are not currently part of the model do exist. \n",
    "\n",
    "In the context of kernel densities, we hypothesize that a novel class is one in which samples in the feature space occur in regions of low density relative to each known class, but in high density relative to the overall population."
   ]
  },
  {
   "cell_type": "code",
   "execution_count": 1,
   "metadata": {
    "collapsed": false
   },
   "outputs": [],
   "source": [
    "import pandas as pd\n",
    "import numpy as np\n",
    "import matplotlib.pyplot as plt\n",
    "from sklearn import metrics\n",
    "from sklearn.neighbors.kde import KernelDensity\n",
    "\n",
    "%matplotlib inline"
   ]
  },
  {
   "cell_type": "markdown",
   "metadata": {},
   "source": [
    "Load sample glass data."
   ]
  },
  {
   "cell_type": "code",
   "execution_count": 2,
   "metadata": {
    "collapsed": false
   },
   "outputs": [
    {
     "data": {
      "text/html": [
       "<div>\n",
       "<table border=\"1\" class=\"dataframe\">\n",
       "  <thead>\n",
       "    <tr style=\"text-align: right;\">\n",
       "      <th></th>\n",
       "      <th>class</th>\n",
       "      <th>0</th>\n",
       "      <th>1</th>\n",
       "      <th>2</th>\n",
       "      <th>3</th>\n",
       "      <th>4</th>\n",
       "      <th>5</th>\n",
       "      <th>6</th>\n",
       "      <th>7</th>\n",
       "    </tr>\n",
       "  </thead>\n",
       "  <tbody>\n",
       "    <tr>\n",
       "      <th>0</th>\n",
       "      <td>1</td>\n",
       "      <td>-0.134323</td>\n",
       "      <td>-0.124812</td>\n",
       "      <td>1.000000</td>\n",
       "      <td>-0.495327</td>\n",
       "      <td>-0.296429</td>\n",
       "      <td>-0.980676</td>\n",
       "      <td>-0.382900</td>\n",
       "      <td>-1</td>\n",
       "    </tr>\n",
       "    <tr>\n",
       "      <th>1</th>\n",
       "      <td>1</td>\n",
       "      <td>-0.432839</td>\n",
       "      <td>-0.049624</td>\n",
       "      <td>0.603564</td>\n",
       "      <td>-0.333333</td>\n",
       "      <td>0.042858</td>\n",
       "      <td>-0.845411</td>\n",
       "      <td>-0.553903</td>\n",
       "      <td>-1</td>\n",
       "    </tr>\n",
       "    <tr>\n",
       "      <th>2</th>\n",
       "      <td>1</td>\n",
       "      <td>-0.558380</td>\n",
       "      <td>-0.157895</td>\n",
       "      <td>0.581292</td>\n",
       "      <td>-0.221184</td>\n",
       "      <td>0.135713</td>\n",
       "      <td>-0.874396</td>\n",
       "      <td>-0.563197</td>\n",
       "      <td>-1</td>\n",
       "    </tr>\n",
       "    <tr>\n",
       "      <th>3</th>\n",
       "      <td>1</td>\n",
       "      <td>-0.428443</td>\n",
       "      <td>-0.254135</td>\n",
       "      <td>0.643653</td>\n",
       "      <td>-0.376947</td>\n",
       "      <td>0.000000</td>\n",
       "      <td>-0.816425</td>\n",
       "      <td>-0.481413</td>\n",
       "      <td>-1</td>\n",
       "    </tr>\n",
       "    <tr>\n",
       "      <th>4</th>\n",
       "      <td>1</td>\n",
       "      <td>-0.449511</td>\n",
       "      <td>-0.236090</td>\n",
       "      <td>0.612472</td>\n",
       "      <td>-0.408100</td>\n",
       "      <td>0.167857</td>\n",
       "      <td>-0.822866</td>\n",
       "      <td>-0.509294</td>\n",
       "      <td>-1</td>\n",
       "    </tr>\n",
       "  </tbody>\n",
       "</table>\n",
       "</div>"
      ],
      "text/plain": [
       "   class         0         1         2         3         4         5  \\\n",
       "0      1 -0.134323 -0.124812  1.000000 -0.495327 -0.296429 -0.980676   \n",
       "1      1 -0.432839 -0.049624  0.603564 -0.333333  0.042858 -0.845411   \n",
       "2      1 -0.558380 -0.157895  0.581292 -0.221184  0.135713 -0.874396   \n",
       "3      1 -0.428443 -0.254135  0.643653 -0.376947  0.000000 -0.816425   \n",
       "4      1 -0.449511 -0.236090  0.612472 -0.408100  0.167857 -0.822866   \n",
       "\n",
       "          6  7  \n",
       "0 -0.382900 -1  \n",
       "1 -0.553903 -1  \n",
       "2 -0.563197 -1  \n",
       "3 -0.481413 -1  \n",
       "4 -0.509294 -1  "
      ]
     },
     "execution_count": 2,
     "metadata": {},
     "output_type": "execute_result"
    }
   ],
   "source": [
    "data = pd.read_csv(\"../data/glass.csv\", index_col=False,names=[\"class\"] + list(range(8))) \n",
    "data_features = [x for x in range(8)]\n",
    "classes = np.unique(data[\"class\"])\n",
    "data.head()"
   ]
  },
  {
   "cell_type": "markdown",
   "metadata": {},
   "source": [
    "Read SDSS data, preprocessed by colour indices and reddenning correction"
   ]
  },
  {
   "cell_type": "code",
   "execution_count": 3,
   "metadata": {
    "collapsed": false
   },
   "outputs": [],
   "source": [
    "# data = pd.read_hdf('../data/sdss.h5', 'sdss')\n",
    "# data.head()"
   ]
  },
  {
   "cell_type": "markdown",
   "metadata": {},
   "source": [
    "Use the same features as reported in Alasdair Tran's Honours thesis 2015."
   ]
  },
  {
   "cell_type": "code",
   "execution_count": 4,
   "metadata": {
    "collapsed": true
   },
   "outputs": [],
   "source": [
    "# target_col = 'class'\n",
    "# data_features = ['psfMag_r_w14', 'psf_u_g_w14', 'psf_g_r_w14', 'psf_r_i_w14',\n",
    "#                 'psf_i_z_w14', 'petroMag_r_w14', 'petro_u_g_w14', 'petro_g_r_w14',\n",
    "#                 'petro_r_i_w14', 'petro_i_z_w14', 'petroRad_r']"
   ]
  },
  {
   "cell_type": "markdown",
   "metadata": {},
   "source": [
    "### Bandwidth Selection\n",
    "\n",
    "We use the median of the pairwise Euclidean distances as a heuristic to determine bandwidth size."
   ]
  },
  {
   "cell_type": "code",
   "execution_count": 5,
   "metadata": {
    "collapsed": false
   },
   "outputs": [
    {
     "name": "stdout",
     "output_type": "stream",
     "text": [
      "Bandwidth: 0.363524969507\n"
     ]
    }
   ],
   "source": [
    "#h = 1/np.sqrt(0.02) # Bandwidth coming from Alasdair's SVM experiments\n",
    "\n",
    "def percentile_pairwise_distance(X, Y=None):\n",
    "    if Y is None: Y = X\n",
    "    distances = metrics.pairwise_distances(X, Y)\n",
    "    return np.percentile(distances, 20)\n",
    "\n",
    "h = percentile_pairwise_distance(data[data_features].values)\n",
    "print(\"Bandwidth:\", h)"
   ]
  },
  {
   "cell_type": "markdown",
   "metadata": {},
   "source": [
    "(**TODO**) Define the training, validation, and test sets, and select appropriate Gaussian kernel bandwidth. Use sklearn's [grid search](http://scikit-learn.org/stable/auto_examples/neighbors/plot_digits_kde_sampling.html) to find a good bandwidth."
   ]
  },
  {
   "cell_type": "code",
   "execution_count": 6,
   "metadata": {
    "collapsed": false
   },
   "outputs": [],
   "source": [
    "num_data = len(data)\n",
    "idx_all = np.random.permutation(num_data)\n",
    "num_train = int(np.floor(0.7*num_data))\n",
    "idx_train = idx_all[:num_train]\n",
    "idx_test = idx_all[num_train:]"
   ]
  },
  {
   "cell_type": "markdown",
   "metadata": {},
   "source": [
    "Estimate a kernel density estimator on the training set"
   ]
  },
  {
   "cell_type": "code",
   "execution_count": 7,
   "metadata": {
    "collapsed": false
   },
   "outputs": [
    {
     "data": {
      "text/plain": [
       "KernelDensity(algorithm='auto', atol=0, bandwidth=0.36352496950745972,\n",
       "       breadth_first=True, kernel='gaussian', leaf_size=40,\n",
       "       metric='euclidean', metric_params=None, rtol=1e-05)"
      ]
     },
     "execution_count": 7,
     "metadata": {},
     "output_type": "execute_result"
    }
   ],
   "source": [
    "kde = KernelDensity(kernel='gaussian', bandwidth=h, rtol=1e-5)\n",
    "Xtrain = data[data_features].ix[idx_train] \n",
    "kde.fit(Xtrain)"
   ]
  },
  {
   "cell_type": "markdown",
   "metadata": {},
   "source": [
    "Use the fitted density to estimate the log density for all items in the test set"
   ]
  },
  {
   "cell_type": "code",
   "execution_count": 8,
   "metadata": {
    "collapsed": false
   },
   "outputs": [],
   "source": [
    "Xtest = data[data_features].ix[idx_test]\n",
    "pred = kde.score_samples(Xtest)"
   ]
  },
  {
   "cell_type": "markdown",
   "metadata": {},
   "source": [
    "Choose an appropriate threshold for identifying outliers"
   ]
  },
  {
   "cell_type": "code",
   "execution_count": 9,
   "metadata": {
    "collapsed": false
   },
   "outputs": [
    {
     "data": {
      "image/png": "[encoded data removed]",
      "text/plain": [
       "<matplotlib.figure.Figure at 0x109c5a3c8>"
      ]
     },
     "metadata": {},
     "output_type": "display_data"
    }
   ],
   "source": [
    "_ = plt.hist(pred, bins=50)"
   ]
  },
  {
   "cell_type": "code",
   "execution_count": 10,
   "metadata": {
    "collapsed": false
   },
   "outputs": [
    {
     "data": {
      "text/plain": [
       "array([-16.21298768, -11.97811452,  -7.19716116,  -5.01309666,\n",
       "        -4.9343533 ,  -4.58470706,  -4.55138562,  -4.28446769,\n",
       "        -3.67064493,  -3.55356224])"
      ]
     },
     "execution_count": 10,
     "metadata": {},
     "output_type": "execute_result"
    }
   ],
   "source": [
    "idx_sort = np.argsort(pred)\n",
    "pred[idx_sort[:10]]"
   ]
  },
  {
   "cell_type": "markdown",
   "metadata": {},
   "source": [
    "Identify the outliers in the dataset. (**TODO**) Export or visualise appropriately for getting feedback from the astronomers."
   ]
  },
  {
   "cell_type": "code",
   "execution_count": 11,
   "metadata": {
    "collapsed": false
   },
   "outputs": [
    {
     "data": {
      "text/html": [
       "<div>\n",
       "<table border=\"1\" class=\"dataframe\">\n",
       "  <thead>\n",
       "    <tr style=\"text-align: right;\">\n",
       "      <th></th>\n",
       "      <th>class</th>\n",
       "      <th>0</th>\n",
       "      <th>1</th>\n",
       "      <th>2</th>\n",
       "      <th>3</th>\n",
       "      <th>4</th>\n",
       "      <th>5</th>\n",
       "      <th>6</th>\n",
       "      <th>7</th>\n",
       "    </tr>\n",
       "  </thead>\n",
       "  <tbody>\n",
       "    <tr>\n",
       "      <th>186</th>\n",
       "      <td>7</td>\n",
       "      <td>-0.365227</td>\n",
       "      <td>0.079699</td>\n",
       "      <td>0.452116</td>\n",
       "      <td>0.202492</td>\n",
       "      <td>-0.485714</td>\n",
       "      <td>-0.529791</td>\n",
       "      <td>-0.933085</td>\n",
       "      <td>0.034921</td>\n",
       "    </tr>\n",
       "    <tr>\n",
       "      <th>184</th>\n",
       "      <td>6</td>\n",
       "      <td>-1.000000</td>\n",
       "      <td>1.000000</td>\n",
       "      <td>-1.000000</td>\n",
       "      <td>-0.968847</td>\n",
       "      <td>1.000000</td>\n",
       "      <td>-1.000000</td>\n",
       "      <td>-0.773234</td>\n",
       "      <td>-1.000000</td>\n",
       "    </tr>\n",
       "    <tr>\n",
       "      <th>163</th>\n",
       "      <td>5</td>\n",
       "      <td>-0.649687</td>\n",
       "      <td>-0.013534</td>\n",
       "      <td>0.193764</td>\n",
       "      <td>1.000000</td>\n",
       "      <td>-0.971428</td>\n",
       "      <td>-0.458937</td>\n",
       "      <td>-0.918216</td>\n",
       "      <td>0.396825</td>\n",
       "    </tr>\n",
       "  </tbody>\n",
       "</table>\n",
       "</div>"
      ],
      "text/plain": [
       "     class         0         1         2         3         4         5  \\\n",
       "186      7 -0.365227  0.079699  0.452116  0.202492 -0.485714 -0.529791   \n",
       "184      6 -1.000000  1.000000 -1.000000 -0.968847  1.000000 -1.000000   \n",
       "163      5 -0.649687 -0.013534  0.193764  1.000000 -0.971428 -0.458937   \n",
       "\n",
       "            6         7  \n",
       "186 -0.933085  0.034921  \n",
       "184 -0.773234 -1.000000  \n",
       "163 -0.918216  0.396825  "
      ]
     },
     "execution_count": 11,
     "metadata": {},
     "output_type": "execute_result"
    }
   ],
   "source": [
    "idx_outlier = idx_test[np.where(pred < -7)]\n",
    "data.ix[idx_outlier]"
   ]
  },
  {
   "cell_type": "markdown",
   "metadata": {},
   "source": [
    "Calculate class-specific densities"
   ]
  },
  {
   "cell_type": "code",
   "execution_count": 12,
   "metadata": {
    "collapsed": false
   },
   "outputs": [
    {
     "name": "stderr",
     "output_type": "stream",
     "text": [
      "/Users/cong/anaconda3/lib/python3.4/site-packages/pandas/core/frame.py:1997: UserWarning: Boolean Series key will be reindexed to match DataFrame index.\n",
      "  \"DataFrame index.\", UserWarning)\n"
     ]
    }
   ],
   "source": [
    "densities = {}\n",
    "for cl in classes:\n",
    "    Xtrain_cl = Xtrain[data[\"class\"]==cl]\n",
    "    densities[cl] = KernelDensity(kernel='gaussian', bandwidth=h, rtol=1e-5)\n",
    "    densities[cl].fit(Xtrain_cl)"
   ]
  },
  {
   "cell_type": "markdown",
   "metadata": {},
   "source": [
    "## Discussion\n",
    "\n",
    "* We need to check for outliers on the whole dataset. This can be done by cross validation (an outer loop). However, we also need to check that the various estimated densities from each split are similar.\n",
    "* We have not used the labels. Consider the difference between regions of low density in the unlabelled case and regions of low density when using only data from a single class.\n",
    "* The original downloaded SDSS data also contains uncertainties about the magnitude, which can be used to cross check whether outliers are noisy measurements.\n",
    "* A set of sanity checks are usually used for cleaning up the data before analysis. Cross check that the outliers mostly fail the sanity checks"
   ]
  },
  {
   "cell_type": "code",
   "execution_count": 13,
   "metadata": {
    "collapsed": false
   },
   "outputs": [],
   "source": [
    "class_pred = {}\n",
    "for cl in classes:\n",
    "    class_pred[cl] = densities[cl].score_samples(Xtest)\n",
    "    class_pred[cl] -= pred"
   ]
  },
  {
   "cell_type": "code",
   "execution_count": 14,
   "metadata": {
    "collapsed": false
   },
   "outputs": [
    {
     "data": {
      "image/png": "[encoded data removed]",
      "text/plain": [
       "<matplotlib.figure.Figure at 0x10a76c358>"
      ]
     },
     "metadata": {},
     "output_type": "display_data"
    }
   ],
   "source": [
    "fig = plt.figure(figsize=(16,10))\n",
    "ax = fig.add_subplot(231)\n",
    "_ = ax.hist(class_pred[1], 30)\n",
    "ax = fig.add_subplot(232)\n",
    "_ = ax.hist(class_pred[2], 30)\n",
    "ax = fig.add_subplot(233)\n",
    "_ = ax.hist(class_pred[3], 30)\n",
    "ax = fig.add_subplot(234)\n",
    "_ = ax.hist(class_pred[5], 30)\n",
    "ax = fig.add_subplot(235)\n",
    "_ = ax.hist(class_pred[6], 30)\n",
    "ax = fig.add_subplot(236)\n",
    "_ = ax.hist(class_pred[7], 30)"
   ]
  },
  {
   "cell_type": "code",
   "execution_count": null,
   "metadata": {
    "collapsed": true
   },
   "outputs": [],
   "source": []
  }
 ],
 "metadata": {
  "kernelspec": {
   "display_name": "Python 3",
   "language": "python",
   "name": "python3"
  },
  "language_info": {
   "codemirror_mode": {
    "name": "ipython",
    "version": 3
   },
   "file_extension": ".py",
   "mimetype": "text/x-python",
   "name": "python",
   "nbconvert_exporter": "python",
   "pygments_lexer": "ipython3",
   "version": "3.4.3"
  }
 },
 "nbformat": 4,
 "nbformat_minor": 0
}
