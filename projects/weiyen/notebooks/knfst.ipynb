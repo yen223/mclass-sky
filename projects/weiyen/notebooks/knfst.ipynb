{
 "cells": [
  {
   "cell_type": "code",
   "execution_count": 1,
   "metadata": {
    "collapsed": false
   },
   "outputs": [],
   "source": [
    "import numpy as np\n",
    "import scipy as sp\n",
    "import pandas as pd\n",
    "import urllib.request\n",
    "import os\n",
    "import shutil\n",
    "import tarfile\n",
    "import matplotlib.pyplot as plt\n",
    "from sklearn import datasets, cross_validation, metrics\n",
    "from sklearn.preprocessing import KernelCenterer\n",
    "from scipy.linalg import svd\n",
    "\n",
    "%matplotlib inline"
   ]
  },
  {
   "cell_type": "markdown",
   "metadata": {},
   "source": [
    "### Kernel Null Foley-Sammon Transform for Novelty Detection\n",
    "\n",
    "\n"
   ]
  },
  {
   "cell_type": "markdown",
   "metadata": {},
   "source": [
    "The following function calculates the basis for the nullspace of a given matrix A."
   ]
  },
  {
   "cell_type": "code",
   "execution_count": 2,
   "metadata": {
    "collapsed": false
   },
   "outputs": [],
   "source": [
    "def nullspace(A, eps=1e-12):\n",
    "    u, s, vh = svd(A)\n",
    "    null_mask = (s <= eps)\n",
    "    null_space = sp.compress(null_mask, vh, axis=0)\n",
    "    return sp.transpose(null_space)"
   ]
  },
  {
   "cell_type": "markdown",
   "metadata": {},
   "source": [
    "Train the model, and obtain the projection and class target points."
   ]
  },
  {
   "cell_type": "code",
   "execution_count": 3,
   "metadata": {
    "collapsed": false
   },
   "outputs": [],
   "source": [
    "def learn(K, labels):\n",
    "    '''\n",
    "    Calculate multi-class KNFST model for multi-class novelty detection\n",
    "    \n",
    "    INPUT\n",
    "      K: NxN kernel matrix containing similarities of n training samples\n",
    "      labels: Nx1 column vector containing multi-class labels of N training samples\n",
    "\n",
    "    OUTPUT\n",
    "      proj: Projection of KNFST\n",
    "      target_points: The projections of training data into the null space\n",
    "\n",
    "    '''\n",
    "    classes = np.unique(labels)\n",
    "    if len(classes) < 2:\n",
    "        raise Exception(\"KNFST requires 2 or more classes\")\n",
    "    n, m = K.shape\n",
    "    if n != m:\n",
    "        raise Exception(\"Kernel matrix must be quadratic\")\n",
    "    \n",
    "    centered_k = KernelCenterer().fit_transform(K)\n",
    "    \n",
    "    basis_values, basis_vecs = np.linalg.eigh(centered_k)\n",
    "    \n",
    "    basis_vecs = basis_vecs[:,basis_values > 1e-12]\n",
    "    basis_values = basis_values[basis_values > 1e-12]\n",
    " \n",
    "    basis_values = np.diag(1.0/np.sqrt(basis_values))\n",
    "\n",
    "    basis_vecs  = basis_vecs.dot(basis_values)\n",
    "\n",
    "    L = np.zeros([n,n])\n",
    "    for cl in classes:\n",
    "        for idx1, x in enumerate(labels == cl):\n",
    "            for idx2, y in enumerate(labels == cl):\n",
    "                if x and y:\n",
    "                    L[idx1, idx2] = 1.0/np.sum(labels==cl)\n",
    "    M = np.ones([m,m])/m\n",
    "    H = (((np.eye(m,m)-M).dot(basis_vecs)).T).dot(K).dot(np.eye(n,m)-L)\n",
    "    \n",
    "    t_sw = H.dot(H.T)\n",
    "    eigenvecs = nullspace(t_sw)\n",
    "    if eigenvecs.shape[1] < 1:\n",
    "        eigenvals, eigenvecs = np.linalg.eigh(t_sw)\n",
    "        \n",
    "        eigenvals = np.diag(eigenvals)\n",
    "        min_idx = eigenvals.argsort()[0]\n",
    "        eigenvecs = eigenvecs[:, min_idx]\n",
    "    proj = ((np.eye(m,m)-M).dot(basis_vecs)).dot(eigenvecs)\n",
    "    target_points = []\n",
    "    for cl in classes:\n",
    "        k_cl = K[labels==cl, :]        \n",
    "        pt = np.mean(k_cl.dot(proj), axis=0)\n",
    "        target_points.append(pt)\n",
    "        \n",
    "    return proj, np.array(target_points)"
   ]
  },
  {
   "cell_type": "code",
   "execution_count": 4,
   "metadata": {
    "collapsed": true
   },
   "outputs": [],
   "source": [
    "def squared_euclidean_distances(x, y):\n",
    "    n = np.shape(x)[0]\n",
    "    m = np.shape(y)[0]\n",
    "    distmat = np.zeros((n,m))\n",
    "    \n",
    "    for i in range(n):\n",
    "        for j in range(m):\n",
    "            buff = x[i,:] - y[j,:]\n",
    "            distmat[i,j] = buff.dot(buff.T)\n",
    "    return distmat"
   ]
  },
  {
   "cell_type": "code",
   "execution_count": 5,
   "metadata": {
    "collapsed": true
   },
   "outputs": [],
   "source": [
    "def assign_score(proj, target_points, ks):\n",
    "    projection_vectors = ks.T.dot(proj)\n",
    "    sq_dist = squared_euclidean_distances(projection_vectors, target_points)\n",
    "    scores = np.sqrt(np.amin(sq_dist, 1))\n",
    "    return scores"
   ]
  },
  {
   "cell_type": "code",
   "execution_count": 6,
   "metadata": {
    "collapsed": true
   },
   "outputs": [],
   "source": [
    "def normalise_z(data):\n",
    "    mu = np.mean(data, axis=0)\n",
    "    sigma = np.std(data, axis=0)\n",
    "    assert np.any(sigma > 0.0), 'Zero variance'\n",
    "    return (data-mu)/sigma"
   ]
  },
  {
   "cell_type": "code",
   "execution_count": 7,
   "metadata": {
    "collapsed": true
   },
   "outputs": [],
   "source": [
    "def _hik(x, y):\n",
    "    '''\n",
    "    Implements the histogram intersection kernel.\n",
    "    '''\n",
    "    return np.minimum(x, y).sum()"
   ]
  },
  {
   "cell_type": "code",
   "execution_count": 8,
   "metadata": {
    "collapsed": false
   },
   "outputs": [],
   "source": [
    "def median_pairwise_distance(X, Y):\n",
    "    distances = metrics.pairwise_distances(X, Y)\n",
    "    return np.median(distances)"
   ]
  },
  {
   "cell_type": "code",
   "execution_count": 9,
   "metadata": {
    "collapsed": false
   },
   "outputs": [],
   "source": [
    "def run_tests(data, target, known_train_size=0.9, num_tests=30, **kernel_args):\n",
    "    classes = np.unique(target)\n",
    "    auc_scores = []\n",
    "    for n in range(num_tests):\n",
    "        num_class = len(classes)\n",
    "        num_known = max(int(np.floor(num_class/2)), 2)\n",
    "        known = np.random.choice(classes, num_known, replace=False)\n",
    "        mask = np.array([y in known for y in target])\n",
    "\n",
    "        X_train = data[mask]\n",
    "        y_train = target[mask]\n",
    "\n",
    "        idx = np.arange(len(y_train))\n",
    "        np.random.shuffle(idx) \n",
    "        num_train = len(X_train)\n",
    "        X_train = X_train[idx < num_train*known_train_size]\n",
    "        y_train = y_train[idx < num_train*known_train_size]\n",
    "\n",
    "    #     sample_idx = np.random.randint(0, len(data), size=len(data)//2)\n",
    "        X_test = data\n",
    "        y_labels = target\n",
    "\n",
    "        # Test labels are 1 if novel, otherwise 0.\n",
    "        y_test = np.array([1 if cl not in known else 0 for cl in y_labels])\n",
    "\n",
    "        # Train model\n",
    "        if kernel_args.get(\"metric\") ==\"rbf\":\n",
    "            median_dist = median_pairwise_distance(X_train, X_train)\n",
    "            kernel_args[\"gamma\"] = median_dist\n",
    "            \n",
    "        kernel_mat = metrics.pairwise_kernels(X_train, **kernel_args)\n",
    "        proj, target_points = learn(kernel_mat, y_train)\n",
    "\n",
    "        # Test\n",
    "        if kernel_args.get(\"metric\") ==\"rbf\":\n",
    "            median_dist = median_pairwise_distance(X_train, X_test)\n",
    "            kernel_args[\"gamma\"] = median_dist\n",
    "        \n",
    "        ks = metrics.pairwise_kernels(X_train, X_test, **kernel_args)\n",
    "        scores = assign_score(proj, target_points, ks)\n",
    "\n",
    "        auc = metrics.roc_auc_score(y_test, scores)\n",
    "        auc_scores.append(auc)\n",
    "    return auc_scores"
   ]
  },
  {
   "cell_type": "code",
   "execution_count": 10,
   "metadata": {
    "collapsed": true
   },
   "outputs": [],
   "source": [
    "def retrieve_dataset(url, dataset_dir=\"../data\", filename=None, extract_targiz=False):\n",
    "    if not filename:\n",
    "        filename = os.path.split(url)[1]\n",
    "        \n",
    "    dest_path = os.path.join(dataset_dir, filename)\n",
    "\n",
    "    if os.path.exists(dest_path):\n",
    "        print(\"{} exists. Skipping download...\".format(dest_path))\n",
    "    else:\n",
    "        with urllib.request.urlopen(url) as response, open(dest_path, 'wb') as out_file:\n",
    "            shutil.copyfileobj(response, out_file)\n",
    "            print(\"Dataset downloaded. Extracting files...\")\n",
    "\n",
    "    if extract_targiz:\n",
    "        tar = tarfile.open(dest_path)\n",
    "        tar.extractall(path=dataset_dir)\n",
    "        print(\"Files extracted.\")\n",
    "        tar.close()\n",
    "    \n",
    "    return dest_path"
   ]
  },
  {
   "cell_type": "code",
   "execution_count": 11,
   "metadata": {
    "collapsed": false
   },
   "outputs": [
    {
     "name": "stdout",
     "output_type": "stream",
     "text": [
      "Dataset downloaded. Extracting files...\n"
     ]
    },
    {
     "data": {
      "image/png": "[encoded data removed]",
      "text/plain": [
       "<matplotlib.figure.Figure at 0x10999b748>"
      ]
     },
     "metadata": {},
     "output_type": "display_data"
    }
   ],
   "source": [
    "url = r\"http://mldata.org/repository/data/download/csv/glass/\"\n",
    "path = retrieve_dataset(url, filename=\"glass.csv\")\n",
    "\n",
    "csv_data = np.loadtxt(path, delimiter=\",\")\n",
    "raw_data = csv_data[:,1:]\n",
    "data = normalise_z(raw_data)\n",
    "target = csv_data[:,0].astype(int)\n",
    "\n",
    "fig = plt.figure(1, figsize=(9, 6))\n",
    "ax = fig.add_subplot(111)\n",
    "\n",
    "rbf_result = run_tests(data, target, known_train_size=0.6, metric=\"rbf\")\n",
    "hik_result = run_tests(data, target, known_train_size=0.6, metric=_hik)\n",
    "bp = ax.boxplot([rbf_result, hik_result])\n",
    "ax.set_xticklabels(['RBF Kernel', 'HIK'])\n",
    "ax.grid(True)\n",
    "plt.show()"
   ]
  },
  {
   "cell_type": "code",
   "execution_count": 12,
   "metadata": {
    "collapsed": false
   },
   "outputs": [
    {
     "name": "stdout",
     "output_type": "stream",
     "text": [
      "Dataset downloaded. Extracting files...\n"
     ]
    },
    {
     "data": {
      "image/png": "[encoded data removed]",
      "text/plain": [
       "<matplotlib.figure.Figure at 0x10bd42780>"
      ]
     },
     "metadata": {},
     "output_type": "display_data"
    }
   ],
   "source": [
    "url = r\"http://mldata.org/repository/data/download/csv/vehicle/\"\n",
    "path = retrieve_dataset(url, filename=\"vehicle.csv\")\n",
    "\n",
    "csv_data = np.loadtxt(path, delimiter=\",\")\n",
    "raw_data = csv_data[:,1:]\n",
    "data = normalise_z(raw_data)\n",
    "target = csv_data[:,0].astype(int)\n",
    "\n",
    "fig = plt.figure(1, figsize=(9, 6))\n",
    "ax = fig.add_subplot(111)\n",
    "\n",
    "rbf_result = run_tests(data, target, known_train_size=0.6, metric=\"rbf\")\n",
    "hik_result = run_tests(data, target, known_train_size=0.6, metric=_hik)\n",
    "bp = ax.boxplot([rbf_result, hik_result])\n",
    "ax.set_xticklabels(['RBF Kernel', 'HIK'])\n",
    "ax.grid(True)\n",
    "plt.show()"
   ]
  },
  {
   "cell_type": "code",
   "execution_count": 13,
   "metadata": {
    "collapsed": false
   },
   "outputs": [
    {
     "name": "stdout",
     "output_type": "stream",
     "text": [
      "Dataset downloaded. Extracting files...\n"
     ]
    },
    {
     "data": {
      "image/png": "[encoded data removed]",
      "text/plain": [
       "<matplotlib.figure.Figure at 0x10bd89518>"
      ]
     },
     "metadata": {},
     "output_type": "display_data"
    }
   ],
   "source": [
    "url = r\"http://mldata.org/repository/data/download/csv/wine/\"\n",
    "path = retrieve_dataset(url, filename=\"wine.csv\")\n",
    "\n",
    "csv_data = np.loadtxt(path, delimiter=\",\")\n",
    "raw_data = csv_data[:,1:]\n",
    "data = normalise_z(raw_data)\n",
    "target = csv_data[:,0].astype(int)\n",
    "\n",
    "fig = plt.figure(1, figsize=(9, 6))\n",
    "ax = fig.add_subplot(111)\n",
    "\n",
    "rbf_result = run_tests(data, target, known_train_size=0.6, metric=\"rbf\")\n",
    "hik_result = run_tests(data, target, known_train_size=0.6, metric=_hik)\n",
    "bp = ax.boxplot([rbf_result, hik_result])\n",
    "ax.set_xticklabels(['RBF Kernel', 'HIK'])\n",
    "ax.grid(True)\n",
    "plt.show()"
   ]
  },
  {
   "cell_type": "markdown",
   "metadata": {},
   "source": [
    "Tests on the Caltech256 dataset:"
   ]
  },
  {
   "cell_type": "code",
   "execution_count": 14,
   "metadata": {
    "collapsed": false
   },
   "outputs": [
    {
     "ename": "NameError",
     "evalue": "name 'DATASET_DIR' is not defined",
     "output_type": "error",
     "traceback": [
      "\u001b[0;31m---------------------------------------------------------------------------\u001b[0m",
      "\u001b[0;31mNameError\u001b[0m                                 Traceback (most recent call last)",
      "\u001b[0;32m<ipython-input-14-4f00dfb8f469>\u001b[0m in \u001b[0;36m<module>\u001b[0;34m()\u001b[0m\n\u001b[0;32m----> 1\u001b[0;31m \u001b[0mpath\u001b[0m \u001b[0;34m=\u001b[0m \u001b[0mos\u001b[0m\u001b[0;34m.\u001b[0m\u001b[0mpath\u001b[0m\u001b[0;34m.\u001b[0m\u001b[0mjoin\u001b[0m\u001b[0;34m(\u001b[0m\u001b[0mDATASET_DIR\u001b[0m\u001b[0;34m,\u001b[0m \u001b[0;34m\"bow_1000_dense/\"\u001b[0m\u001b[0;34m)\u001b[0m\u001b[0;34m\u001b[0m\u001b[0m\n\u001b[0m\u001b[1;32m      2\u001b[0m \u001b[0;34m\u001b[0m\u001b[0m\n\u001b[1;32m      3\u001b[0m \u001b[0mds\u001b[0m \u001b[0;34m=\u001b[0m \u001b[0mdatasets\u001b[0m\u001b[0;34m.\u001b[0m\u001b[0mload_files\u001b[0m\u001b[0;34m(\u001b[0m\u001b[0mpath\u001b[0m\u001b[0;34m)\u001b[0m\u001b[0;34m\u001b[0m\u001b[0m\n\u001b[1;32m      4\u001b[0m \u001b[0mds\u001b[0m\u001b[0;34m.\u001b[0m\u001b[0mdata\u001b[0m \u001b[0;34m=\u001b[0m \u001b[0mnp\u001b[0m\u001b[0;34m.\u001b[0m\u001b[0mvstack\u001b[0m\u001b[0;34m(\u001b[0m\u001b[0;34m[\u001b[0m\u001b[0mnp\u001b[0m\u001b[0;34m.\u001b[0m\u001b[0mfromstring\u001b[0m\u001b[0;34m(\u001b[0m\u001b[0mtxt\u001b[0m\u001b[0;34m,\u001b[0m \u001b[0msep\u001b[0m\u001b[0;34m=\u001b[0m\u001b[0;34m'\\t'\u001b[0m\u001b[0;34m)\u001b[0m \u001b[0;32mfor\u001b[0m \u001b[0mtxt\u001b[0m \u001b[0;32min\u001b[0m \u001b[0mds\u001b[0m\u001b[0;34m.\u001b[0m\u001b[0mdata\u001b[0m\u001b[0;34m]\u001b[0m\u001b[0;34m)\u001b[0m\u001b[0;34m\u001b[0m\u001b[0m\n\u001b[1;32m      5\u001b[0m \u001b[0;34m\u001b[0m\u001b[0m\n",
      "\u001b[0;31mNameError\u001b[0m: name 'DATASET_DIR' is not defined"
     ]
    }
   ],
   "source": [
    "path = os.path.join(DATASET_DIR, \"bow_1000_dense/\")\n",
    "\n",
    "ds = datasets.load_files(path)\n",
    "ds.data = np.vstack([np.fromstring(txt, sep='\\t') for txt in ds.data])\n",
    "\n",
    "data = ds.data\n",
    "target = ds.target"
   ]
  },
  {
   "cell_type": "code",
   "execution_count": null,
   "metadata": {
    "collapsed": true
   },
   "outputs": [],
   "source": [
    "def plot_score(scores, y_test):\n",
    "    colours = ['r', 'b']\n",
    "    for y, colour in zip([0, 1], colours):\n",
    "        m = y_test == y\n",
    "        plt.scatter(scores[m], y_test[m], color=colour)\n",
    "#     plt.plot(scores, np.zeros_like(scores), 'x')\n",
    "    plt.show()"
   ]
  }
 ],
 "metadata": {
  "kernelspec": {
   "display_name": "Python 3",
   "language": "python",
   "name": "python3"
  },
  "language_info": {
   "codemirror_mode": {
    "name": "ipython",
    "version": 3
   },
   "file_extension": ".py",
   "mimetype": "text/x-python",
   "name": "python",
   "nbconvert_exporter": "python",
   "pygments_lexer": "ipython3",
   "version": "3.4.3"
  }
 },
 "nbformat": 4,
 "nbformat_minor": 0
}
